{
 "cells": [
  {
   "cell_type": "code",
   "execution_count": 1,
   "id": "0aa838f8",
   "metadata": {},
   "outputs": [],
   "source": [
    "import os"
   ]
  },
  {
   "cell_type": "code",
   "execution_count": 20,
   "id": "df00a93e",
   "metadata": {},
   "outputs": [],
   "source": [
    "data_path = 'datasets/GOPRO/train/'"
   ]
  },
  {
   "cell_type": "code",
   "execution_count": 21,
   "id": "f1815099",
   "metadata": {},
   "outputs": [],
   "source": [
    "scenes = os.listdir(data_path)"
   ]
  },
  {
   "cell_type": "code",
   "execution_count": 22,
   "id": "5adcb0a1",
   "metadata": {},
   "outputs": [
    {
     "ename": "IndentationError",
     "evalue": "expected an indented block (720954812.py, line 4)",
     "output_type": "error",
     "traceback": [
      "\u001b[0;36m  Cell \u001b[0;32mIn[22], line 4\u001b[0;36m\u001b[0m\n\u001b[0;31m    path = os.path.join(data_path,scence)\u001b[0m\n\u001b[0m    ^\u001b[0m\n\u001b[0;31mIndentationError\u001b[0m\u001b[0;31m:\u001b[0m expected an indented block\n"
     ]
    }
   ],
   "source": [
    "gt_paths = []\n",
    "img_paths = []\n",
    "for scence in scenes:\n",
    "    path = os.path.join(data_path,scence)\n",
    "    blur_path = os.path.join(path,'blur')\n",
    "    gt_path = os.path.join(path,'sharp')\n",
    "    images = os.listdir(blur_path)\n",
    "    gt = os.listdir(gt_path)\n",
    "    for idx,_ in enumerate(images):\n",
    "        gt_paths.append(os.path.join(gt_path,images[idx]))\n",
    "        img_paths.append(os.path.join(blur_path,gt[idx]))"
   ]
  },
  {
   "cell_type": "code",
   "execution_count": 9,
   "id": "23f9aa3e",
   "metadata": {},
   "outputs": [],
   "source": [
    "with open('gopro_gt.txt','w') as f:\n",
    "    for i in gt_paths:\n",
    "        f.write(i + '\\n')"
   ]
  },
  {
   "cell_type": "code",
   "execution_count": 19,
   "id": "d39e770d",
   "metadata": {},
   "outputs": [
    {
     "data": {
      "text/plain": [
       "46266"
      ]
     },
     "execution_count": 19,
     "metadata": {},
     "output_type": "execute_result"
    }
   ],
   "source": [
    "len(gt_paths)"
   ]
  },
  {
   "cell_type": "code",
   "execution_count": null,
   "id": "3a866892",
   "metadata": {},
   "outputs": [],
   "source": []
  }
 ],
 "metadata": {
  "kernelspec": {
   "display_name": "Python 3 (ipykernel)",
   "language": "python",
   "name": "python3"
  },
  "language_info": {
   "codemirror_mode": {
    "name": "ipython",
    "version": 3
   },
   "file_extension": ".py",
   "mimetype": "text/x-python",
   "name": "python",
   "nbconvert_exporter": "python",
   "pygments_lexer": "ipython3",
   "version": "3.8.10"
  }
 },
 "nbformat": 4,
 "nbformat_minor": 5
}
